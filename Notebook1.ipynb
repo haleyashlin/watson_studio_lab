{
 "cells": [
  {
   "cell_type": "code",
   "execution_count": 1,
   "id": "482f69fb-b80c-43cd-bc0b-b1a00f10c55d",
   "metadata": {
    "id": "c2dc298c-8335-4087-8c3e-2edb2215036d",
    "tags": []
   },
   "outputs": [
    {
     "ename": "SyntaxError",
     "evalue": "invalid syntax (1836880984.py, line 1)",
     "output_type": "error",
     "traceback": [
      "\u001b[0;36m  File \u001b[0;32m\"/tmp/1000630000/ipykernel_309/1836880984.py\"\u001b[0;36m, line \u001b[0;32m1\u001b[0m\n\u001b[0;31m    hello world. This is notebook 1\u001b[0m\n\u001b[0m          ^\u001b[0m\n\u001b[0;31mSyntaxError\u001b[0m\u001b[0;31m:\u001b[0m invalid syntax\n"
     ]
    }
   ],
   "source": [
    "hello world. This is notebook 1"
   ]
  },
  {
   "cell_type": "code",
   "execution_count": 2,
   "id": "1f4644f1-b467-4ff2-ba12-ef8daf6d5aa4",
   "metadata": {
    "id": "1f4644f1-b467-4ff2-ba12-ef8daf6d5aa4",
    "tags": []
   },
   "outputs": [
    {
     "ename": "SyntaxError",
     "evalue": "invalid character '“' (U+201C) (2503817317.py, line 1)",
     "output_type": "error",
     "traceback": [
      "\u001b[0;36m  File \u001b[0;32m\"/tmp/1000630000/ipykernel_309/2503817317.py\"\u001b[0;36m, line \u001b[0;32m1\u001b[0m\n\u001b[0;31m    print (“hello world. This is notebook 1”)\u001b[0m\n\u001b[0m           ^\u001b[0m\n\u001b[0;31mSyntaxError\u001b[0m\u001b[0;31m:\u001b[0m invalid character '“' (U+201C)\n"
     ]
    }
   ],
   "source": [
    "print (“hello world. This is notebook 1”)"
   ]
  },
  {
   "cell_type": "code",
   "execution_count": 3,
   "id": "cddeecef-2933-4f68-9bb5-bfe28fa3f06c",
   "metadata": {
    "id": "cddeecef-2933-4f68-9bb5-bfe28fa3f06c",
    "tags": []
   },
   "outputs": [
    {
     "name": "stdout",
     "output_type": "stream",
     "text": [
      "hello world. This is notebook 1\n"
     ]
    }
   ],
   "source": [
    "print (\"hello world. This is notebook 1\")"
   ]
  },
  {
   "cell_type": "code",
   "execution_count": null,
   "id": "c9562e74-4d61-4f4d-a3af-ac3cf49483eb",
   "metadata": {
    "id": "c9562e74-4d61-4f4d-a3af-ac3cf49483eb"
   },
   "outputs": [],
   "source": []
  }
 ],
 "metadata": {
  "kernelspec": {
   "display_name": "Python 3.9",
   "language": "python",
   "name": "python3"
  },
  "language_info": {
   "codemirror_mode": {
    "name": "ipython",
    "version": 3
   },
   "file_extension": ".py",
   "mimetype": "text/x-python",
   "name": "python",
   "nbconvert_exporter": "python",
   "pygments_lexer": "ipython3",
   "version": "3.9.7"
  }
 },
 "nbformat": 4,
 "nbformat_minor": 5
}
