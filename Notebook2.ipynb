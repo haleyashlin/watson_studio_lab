{
 "cells": [
  {
   "cell_type": "code",
   "execution_count": 1,
   "id": "3292501d-f8af-4257-b1bd-9503720b26ac",
   "metadata": {
    "id": "94213853-6298-45db-9dcd-b8d847472fb9",
    "tags": []
   },
   "outputs": [
    {
     "name": "stdout",
     "output_type": "stream",
     "text": [
      "hello world. This is notebook 2\n"
     ]
    }
   ],
   "source": [
    "print (\"hello world. This is notebook 2\")"
   ]
  },
  {
   "cell_type": "code",
   "execution_count": null,
   "id": "9d266fc3-f6d9-4234-a339-8a3817f17573",
   "metadata": {
    "id": "9d266fc3-f6d9-4234-a339-8a3817f17573"
   },
   "outputs": [],
   "source": []
  }
 ],
 "metadata": {
  "kernelspec": {
   "display_name": "Python 3.9",
   "language": "python",
   "name": "python3"
  },
  "language_info": {
   "codemirror_mode": {
    "name": "ipython",
    "version": 3
   },
   "file_extension": ".py",
   "mimetype": "text/x-python",
   "name": "python",
   "nbconvert_exporter": "python",
   "pygments_lexer": "ipython3",
   "version": "3.9.7"
  }
 },
 "nbformat": 4,
 "nbformat_minor": 5
}
